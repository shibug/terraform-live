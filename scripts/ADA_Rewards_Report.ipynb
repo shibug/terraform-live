{
 "cells": [
  {
   "cell_type": "code",
   "execution_count": null,
   "metadata": {},
   "outputs": [],
   "source": [
    "#Install the Blockfrost liberary\n",
    "pip install blockfrost-python "
   ]
  },
  {
   "cell_type": "code",
   "execution_count": null,
   "metadata": {},
   "outputs": [],
   "source": [
    "#Enter the Cardano Pool ID\n",
    "pool_id = 'pool1jrn3nlmzt4r99fh5z450nnwqerwljzn426ffknfs9x8gcqgffst'\n",
    "\n",
    "#Enter the BlockFrost API project ID\n",
    "project_id = 'mainnetg1Bjrhw3sOEH3JWlI9gH0BVL09nDW5Ic'"
   ]
  },
  {
   "cell_type": "code",
   "execution_count": null,
   "metadata": {},
   "outputs": [],
   "source": [
    "from blockfrost import BlockFrostApi, ApiError, ApiUrls\n",
    "\n",
    "api = BlockFrostApi(\n",
    "    project_id= project_id,  # or export environment variable BLOCKFROST_PROJECT_ID\n",
    "    # optional: pass base_url or export BLOCKFROST_API_URL to use testnet, defaults to ApiUrls.mainnet.value\n",
    "    base_url=ApiUrls.mainnet.value,\n",
    ")\n"
   ]
  },
  {
   "cell_type": "markdown",
   "metadata": {},
   "source": [
    "### Custom Functions"
   ]
  },
  {
   "cell_type": "code",
   "execution_count": null,
   "metadata": {},
   "outputs": [],
   "source": []
  },
  {
   "cell_type": "code",
   "execution_count": null,
   "metadata": {},
   "outputs": [],
   "source": [
    "def delegator_wallet_address(staking_adddress):\n",
    "    try:\n",
    "\n",
    "        staker_address = api.account_addresses(stake_address = staking_adddress)\n",
    "        #print(staker_address[-1].address)\n",
    "        return staker_address[-1].address\n",
    "\n",
    "    except ApiError as e:\n",
    "        print(e)"
   ]
  },
  {
   "cell_type": "code",
   "execution_count": null,
   "metadata": {},
   "outputs": [],
   "source": [
    "def epoch_staked_on_pool(account_delegations,pool_id):\n",
    "    for ad in account_delegations:\n",
    "        print(ad.pool_id,ad.active_epoch)\n",
    "        if ad.pool_id == pool_id:\n",
    "            #print(ad.active_epoch)\n",
    "            return ad.active_epoch"
   ]
  },
  {
   "cell_type": "code",
   "execution_count": null,
   "metadata": {},
   "outputs": [],
   "source": [
    "def epoch_unstaked_on_pool(account_delegations,pool_id):\n",
    "    last_epoc = 'Current'\n",
    "    for i in range (len(account_delegations)-1,0,-1):\n",
    "        print(account_delegations[i])\n",
    "        if account_delegations[i].pool_id == pool_id:\n",
    "            break\n",
    "        elif account_delegations[i].pool_id != pool_id:\n",
    "            last_epoc = account_delegations[i].active_epoch\n",
    "            #print(account_delegations[i].active_epoch)\n",
    "    \n",
    "    return last_epoc"
   ]
  },
  {
   "cell_type": "code",
   "execution_count": null,
   "metadata": {},
   "outputs": [],
   "source": [
    "def epoch_details(staking_address,pool_id):\n",
    "    try:\n",
    "    \n",
    "        account_delegations = api.account_delegations(stake_address = staking_address)\n",
    "        first_epoch = epoch_staked_on_pool(account_delegations,pool_id)\n",
    "        last_epoch = epoch_unstaked_on_pool(account_delegations,pool_id)\n",
    "        return [first_epoch,last_epoch]\n",
    "    except ApiError as e:\n",
    "        print(e)\n",
    "    \n",
    "    "
   ]
  },
  {
   "cell_type": "code",
   "execution_count": null,
   "metadata": {},
   "outputs": [],
   "source": [
    "def pigy_token_allocation(ada_staked):\n",
    "    if ada_staked <= 10 : return 1000\n",
    "    elif ada_staked <= 100 : return 2000\n",
    "    elif ada_staked <= 1000 : return 3000\n",
    "    elif ada_staked <= 10000 : return 5000\n",
    "    elif ada_staked <= 100000 :return 10000"
   ]
  },
  {
   "cell_type": "code",
   "execution_count": null,
   "metadata": {},
   "outputs": [],
   "source": [
    "#Getting the list of delegators\n",
    "\n",
    "try:\n",
    "    delegators = api.pool_delegators(pool_id=pool_id)\n",
    "    \n",
    "except ApiError as e:\n",
    "    print(e)"
   ]
  },
  {
   "cell_type": "code",
   "execution_count": null,
   "metadata": {},
   "outputs": [],
   "source": [
    "len(delegators)"
   ]
  },
  {
   "cell_type": "code",
   "execution_count": null,
   "metadata": {},
   "outputs": [],
   "source": [
    "mylo = []\n",
    "for delegator in delegators:\n",
    "    delegator_details= {}\n",
    "    delegator_details['delegator_stake_key_id'] = delegator.address\n",
    "    delegator_details['ada_staked'] = int(delegator.live_stake)/1000000\n",
    "    delegator_details['delegator_address'] = delegator_wallet_address(delegator_details['delegator_stake_key_id'])\n",
    "    epocs = epoch_details(delegator_details['delegator_stake_key_id'],pool_id)\n",
    "    delegator_details['epoc_staked'] = epocs[0]\n",
    "    delegator_details['epoc_unstaked'] = epocs[1]\n",
    "    delegator_details['staked_rewards'] = delegator_details['ada_staked'] * 0.05\n",
    "    delegator_details['piggy_token_allocaion'] = pigy_token_allocation(delegator_details['ada_staked'])\n",
    "    print(delegator_details)\n",
    "    mylo.append(delegator_details)\n"
   ]
  },
  {
   "cell_type": "code",
   "execution_count": null,
   "metadata": {},
   "outputs": [],
   "source": [
    "import pandas as pd\n",
    "\n",
    "df = pd.DataFrame(mylo)\n",
    "print(df)"
   ]
  },
  {
   "cell_type": "code",
   "execution_count": null,
   "metadata": {},
   "outputs": [],
   "source": [
    "df.to_excel(\"Mylo_report.xlsx\")"
   ]
  },
  {
   "cell_type": "code",
   "execution_count": null,
   "metadata": {},
   "outputs": [],
   "source": []
  }
 ],
 "metadata": {
  "interpreter": {
   "hash": "aee8b7b246df8f9039afb4144a1f6fd8d2ca17a180786b69acc140d282b71a49"
  },
  "kernelspec": {
   "display_name": "Python 3.9.6 64-bit",
   "name": "python3"
  },
  "language_info": {
   "codemirror_mode": {
    "name": "ipython",
    "version": 3
   },
   "file_extension": ".py",
   "mimetype": "text/x-python",
   "name": "python",
   "nbconvert_exporter": "python",
   "pygments_lexer": "ipython3",
   "version": "3.9.6"
  }
 },
 "nbformat": 4,
 "nbformat_minor": 4
}
