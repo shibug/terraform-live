{
 "cells": [
  {
   "cell_type": "code",
   "execution_count": 1,
   "metadata": {},
   "outputs": [],
   "source": [
    "#Install the Blockfrost liberary\n",
    "pip install blockfrost-python "
   ]
  },
  {
   "cell_type": "code",
   "execution_count": 3,
   "metadata": {},
   "outputs": [],
   "source": [
    "#Enter the Cardano Pool ID\n",
    "pool_id = 'pool1jrn3nlmzt4r99fh5z450nnwqerwljzn426ffknfs9x8gcqgffst'\n",
    "\n",
    "#Enter the BlockFrost API project ID\n",
    "project_id = 'mainnetg1Bjrhw3sOEH3JWlI9gH0BVL09nDW5Ic'"
   ]
  },
  {
   "cell_type": "code",
   "execution_count": 4,
   "metadata": {},
   "outputs": [],
   "source": [
    "from blockfrost import BlockFrostApi, ApiError, ApiUrls\n",
    "\n",
    "api = BlockFrostApi(\n",
    "    project_id= project_id,  # or export environment variable BLOCKFROST_PROJECT_ID\n",
    "    # optional: pass base_url or export BLOCKFROST_API_URL to use testnet, defaults to ApiUrls.mainnet.value\n",
    "    base_url=ApiUrls.mainnet.value,\n",
    ")\n"
   ]
  },
  {
   "cell_type": "markdown",
   "metadata": {},
   "source": [
    "### Custom Functions"
   ]
  },
  {
   "cell_type": "code",
   "execution_count": 19,
   "metadata": {},
   "outputs": [],
   "source": [
    "def delegator_wallet_address(staking_adddress):\n",
    "    try:\n",
    "\n",
    "        staker_address = api.account_addresses(stake_address = staking_adddress)\n",
    "        #print(staker_address[-1].address)\n",
    "        return staker_address[-1].address\n",
    "\n",
    "    except ApiError as e:\n",
    "        print(e)"
   ]
  },
  {
   "cell_type": "code",
   "execution_count": 20,
   "metadata": {},
   "outputs": [],
   "source": [
    "def epoch_staked_on_pool(account_delegations,pool_id):\n",
    "    for ad in account_delegations:\n",
    "        print(ad.pool_id,ad.active_epoch)\n",
    "        if ad.pool_id == pool_id:\n",
    "            #print(ad.active_epoch)\n",
    "            return ad.active_epoch"
   ]
  },
  {
   "cell_type": "code",
   "execution_count": 21,
   "metadata": {},
   "outputs": [],
   "source": [
    "def epoch_unstaked_on_pool(account_delegations,pool_id):\n",
    "    last_epoc = 'Current'\n",
    "    for i in range (len(account_delegations)-1,0,-1):\n",
    "        print(account_delegations[i])\n",
    "        if account_delegations[i].pool_id == pool_id:\n",
    "            break\n",
    "        elif account_delegations[i].pool_id != pool_id:\n",
    "            last_epoc = account_delegations[i].active_epoch\n",
    "            #print(account_delegations[i].active_epoch)\n",
    "    \n",
    "    return last_epoc"
   ]
  },
  {
   "cell_type": "code",
   "execution_count": 22,
   "metadata": {},
   "outputs": [],
   "source": [
    "def epoch_details(staking_address,pool_id):\n",
    "    try:\n",
    "    \n",
    "        account_delegations = api.account_delegations(stake_address = staking_address)\n",
    "        first_epoch = epoch_staked_on_pool(account_delegations,pool_id)\n",
    "        last_epoch = epoch_unstaked_on_pool(account_delegations,pool_id)\n",
    "        return [first_epoch,last_epoch]\n",
    "    except ApiError as e:\n",
    "        print(e)\n",
    "    \n",
    "    "
   ]
  },
  {
   "cell_type": "code",
   "execution_count": 27,
   "metadata": {},
   "outputs": [],
   "source": [
    "def pigy_token_allocation(ada_staked):\n",
    "    if ada_staked <= 10 : return 1000\n",
    "    elif ada_staked <= 100 : return 2000\n",
    "    elif ada_staked <= 1000 : return 3000\n",
    "    elif ada_staked <= 10000 : return 5000\n",
    "    elif ada_staked <= 100000 :return 10000"
   ]
  },
  {
   "cell_type": "code",
   "execution_count": 9,
   "metadata": {},
   "outputs": [],
   "source": [
    "#Getting the list of delegators\n",
    "\n",
    "try:\n",
    "    delegators = api.pool_delegators(pool_id=pool_id)\n",
    "    \n",
    "except ApiError as e:\n",
    "    print(e)"
   ]
  },
  {
   "cell_type": "code",
   "execution_count": 10,
   "metadata": {},
   "outputs": [
    {
     "data": {
      "text/plain": [
       "69"
      ]
     },
     "execution_count": 10,
     "metadata": {},
     "output_type": "execute_result"
    }
   ],
   "source": [
    "len(delegators)"
   ]
  },
  {
   "cell_type": "code",
   "execution_count": 28,
   "metadata": {},
   "outputs": [
    {
     "name": "stdout",
     "output_type": "stream",
     "text": [
      "pool1ekcsyzwexl7p2kwxxh34hy28l6772vrmff7jwmuxsa6u6fzty9z 257\n",
      "pool1uautzneywzapn03te7q3sd737xdfejgjlu4mdfjz7mweq92dugg 263\n",
      "pool1jrn3nlmzt4r99fh5z450nnwqerwljzn426ffknfs9x8gcqgffst 280\n",
      "AccountDelegationResponse(active_epoch=280, tx_hash='f1049f16ffc7013bc12ad9ddce4691d04e2b4c906586f577b0ec0a0b01ea0115', amount='420224987', pool_id='pool1jrn3nlmzt4r99fh5z450nnwqerwljzn426ffknfs9x8gcqgffst')\n",
      "{'delegator_stake_key_id': 'stake1uxt7j0g9722g0h2khhmeew7e9xcmdpkn3vdw9q9htnyhvqs9gt3xz', 'ada_staked': 1437.361263, 'delegator_address': 'addr1q9w35rv6m07t0saxd25lykve47pcx0svya9uwnvwj7378cyhay7stu55slw4d00hnjaaj2d3k6rd8zc6u2qtwhxfwcpqz34fpp', 'epoc_staked': 280, 'epoc_unstaked': 'Current', 'staked_rewards': 71.86806315, 'piggy_token_allocaion': 5000}\n",
      "pool1jrn3nlmzt4r99fh5z450nnwqerwljzn426ffknfs9x8gcqgffst 280\n",
      "{'delegator_stake_key_id': 'stake1u9e46eyzzca8hrrratchg8leehe30exkqy485l4fma66t2szcwd0v', 'ada_staked': 0.0, 'delegator_address': 'addr1q8j0w8mazkrucvk5geaezwvx09z0z6h0p022vxeeh5sd3frnt4jgy9360wxx86h3ws0lnn0nzljdvqf20fl2nhm45k4q3svdyf', 'epoc_staked': 280, 'epoc_unstaked': 'Current', 'staked_rewards': 0.0, 'piggy_token_allocaion': 1000}\n",
      "pool1jrn3nlmzt4r99fh5z450nnwqerwljzn426ffknfs9x8gcqgffst 281\n",
      "{'delegator_stake_key_id': 'stake1uyhun2mjmggenx724fhqgwyhwjaszsuvw33w7fd2g63hevs6ct9fn', 'ada_staked': 149.824863, 'delegator_address': 'addr1q84l8mr3rd7l8g26546axhxzxqd54wc8wup6muknkp2kkue0ex4h9ks3nxdu42nwqsufwa9mq9pccarzauj6534r0jeqs0wc5a', 'epoc_staked': 281, 'epoc_unstaked': 'Current', 'staked_rewards': 7.49124315, 'piggy_token_allocaion': 3000}\n",
      "pool1jrn3nlmzt4r99fh5z450nnwqerwljzn426ffknfs9x8gcqgffst 281\n",
      "{'delegator_stake_key_id': 'stake1uyp9gng8yv29zlk9rqchr0ak58fjk74nt2xsamyyr2sqarcyuvd5l', 'ada_staked': 97.824863, 'delegator_address': 'addr1qxr29fjktael9c5n24ujtwe6vvcpxtdgdt45px8rymngvtsz23xswgc529lv2xp3wxlmdgwn9datxk5dpmkggx4qp68sw2twfm', 'epoc_staked': 281, 'epoc_unstaked': 'Current', 'staked_rewards': 4.89124315, 'piggy_token_allocaion': 2000}\n",
      "pool1jrn3nlmzt4r99fh5z450nnwqerwljzn426ffknfs9x8gcqgffst 281\n",
      "{'delegator_stake_key_id': 'stake1u8lat4955yz6n45gyy3hpesejayn4wtuxncv79wmkdknclgdv2hss', 'ada_staked': 525.053349, 'delegator_address': 'addr1qyslkvp5hvx8cndwx9lhkwsmzd5ye94wyqwzz2txv4tuqhll6h2tfgg948tgsgfrwrnpn96f82uhcd8seu2ahvmd837shhvgsy', 'epoc_staked': 281, 'epoc_unstaked': 'Current', 'staked_rewards': 26.252667450000004, 'piggy_token_allocaion': 3000}\n",
      "pool1jrn3nlmzt4r99fh5z450nnwqerwljzn426ffknfs9x8gcqgffst 281\n",
      "{'delegator_stake_key_id': 'stake1uyc9zdxjpfrw0wqg7ungc7f9uqrxf7cczmdp34qyfhpv8uqu2ry30', 'ada_staked': 1887.024863, 'delegator_address': 'addr1qxh46cx3hyzwv0h5vaf7c8xczm65p64f3lurk7ujr6ffgpps2y6dyzjxu7uq3aex33ujtcqxvna3s9k6rr2qgnwzc0cqe54hdy', 'epoc_staked': 281, 'epoc_unstaked': 'Current', 'staked_rewards': 94.35124315000002, 'piggy_token_allocaion': 5000}\n",
      "pool1jrn3nlmzt4r99fh5z450nnwqerwljzn426ffknfs9x8gcqgffst 281\n",
      "{'delegator_stake_key_id': 'stake1ux83fmdjnnrrwgntwxk769vgkqyet4d7ja0pu36qgv9aa2grllvcg', 'ada_staked': 78.325743, 'delegator_address': 'addr1q9wt0wgd6fzeuqnt7cc783jq7lsrwud3qhsdy2zd8l6fpg50znkm98xxxu3xkudda52c3vqfjh2ma967rer5qsctm65smzj2sk', 'epoc_staked': 281, 'epoc_unstaked': 'Current', 'staked_rewards': 3.9162871500000005, 'piggy_token_allocaion': 2000}\n",
      "pool1jrn3nlmzt4r99fh5z450nnwqerwljzn426ffknfs9x8gcqgffst 281\n",
      "{'delegator_stake_key_id': 'stake1uyfyguhwwla0y3ncx8qc2c4rjpsj944xc0wr6mysk8lvrecau8a0r', 'ada_staked': 1504.855842, 'delegator_address': 'addr1q9kr545gjrm56c32wkv84f50cq45h5t4dw3awfan986ewtcjg3ewual67fr8svwps4328yrpytt2ds7u84kfpv07c8nsgt4qet', 'epoc_staked': 281, 'epoc_unstaked': 'Current', 'staked_rewards': 75.2427921, 'piggy_token_allocaion': 5000}\n",
      "pool1jrn3nlmzt4r99fh5z450nnwqerwljzn426ffknfs9x8gcqgffst 281\n",
      "{'delegator_stake_key_id': 'stake1uyyrvw48fpy33p9vwf49sfrydzchgcyymgyjnrscgc6y0qgqlyl8r', 'ada_staked': 420.870459, 'delegator_address': 'addr1q9xkcft52e2z2930n39q5rx8tazlhd3jpth2xl43p473awggxca2wjzfrzz2cun2tqjxg693w3sgfksf9x8ps335g7qsz72zsj', 'epoc_staked': 281, 'epoc_unstaked': 'Current', 'staked_rewards': 21.04352295, 'piggy_token_allocaion': 3000}\n",
      "pool1jrn3nlmzt4r99fh5z450nnwqerwljzn426ffknfs9x8gcqgffst 281\n",
      "{'delegator_stake_key_id': 'stake1uy8ysvrm4ljkvk9zewupq59yl9ksrkwtzd8hz23sqm59m7cvxxs06', 'ada_staked': 2330.276045, 'delegator_address': 'addr1q938dapk76c5v857yuuqyzv67y6msl0vw452p4pnz8hl7vqwfqc8htl9vev29jaczpg2f7tdq8vuky60wy4rqphgthasqgth5h', 'epoc_staked': 281, 'epoc_unstaked': 'Current', 'staked_rewards': 116.51380225000001, 'piggy_token_allocaion': 5000}\n",
      "pool1jrn3nlmzt4r99fh5z450nnwqerwljzn426ffknfs9x8gcqgffst 281\n",
      "{'delegator_stake_key_id': 'stake1uyuhsvugepu230kxxykxpjnc93revceqr96zdyvtkrf3tzgsfrjav', 'ada_staked': 1799.675743, 'delegator_address': 'addr1qy0m6fpa60aav6nce23z397pc69zvfvasmr2yy38vr5d6t3e0qec3jrc4zlvvvfvvr98stz8je3jqxt5y6gchvxnzkysuafn7p', 'epoc_staked': 281, 'epoc_unstaked': 'Current', 'staked_rewards': 89.98378715000001, 'piggy_token_allocaion': 5000}\n",
      "pool1jrn3nlmzt4r99fh5z450nnwqerwljzn426ffknfs9x8gcqgffst 281\n",
      "{'delegator_stake_key_id': 'stake1uy0f29c2v7tewghtl3r23f9a39mr88uvgslqyx89kc0plycfmpkgh', 'ada_staked': 4630.325743, 'delegator_address': 'addr1qy72hv23vzqh3r9mzq0wxapmal7xz6nzqr940tlp2dzt7vc7j5ts5euhju3whlzx4zjtmztkxw0cc3p7qgvwtds7r7fsffthzc', 'epoc_staked': 281, 'epoc_unstaked': 'Current', 'staked_rewards': 231.51628715000004, 'piggy_token_allocaion': 5000}\n",
      "pool1jrn3nlmzt4r99fh5z450nnwqerwljzn426ffknfs9x8gcqgffst 281\n",
      "{'delegator_stake_key_id': 'stake1u82kxnske4wjcla8uttqzp6qc02stz5dp6a6frymj2m97hq2wpwen', 'ada_staked': 1831.201831, 'delegator_address': 'addr1q8ex8xdnnn3q8yjl4cf04l8kmtm53h3duyv9uv4jpewlks74vd8pdn2a93l60ckkqyr5ps74qk9g6r4m5jxfhy4ktawqx3m3f2', 'epoc_staked': 281, 'epoc_unstaked': 'Current', 'staked_rewards': 91.56009155000001, 'piggy_token_allocaion': 5000}\n",
      "pool1jrn3nlmzt4r99fh5z450nnwqerwljzn426ffknfs9x8gcqgffst 281\n",
      "{'delegator_stake_key_id': 'stake1uxag55n3v5mv9zaqldfm3kkr3p7ztvrxqurxpmd9pgx2nlsz277kj', 'ada_staked': 97.825743, 'delegator_address': 'addr1qxthf77h66l5hx27334lxxp3hhnlt8jxy50533jpwy76qg963ff8zefkc296p76nhrdv8zruykcxvpcxvrk62zsv48lq4jlmxr', 'epoc_staked': 281, 'epoc_unstaked': 'Current', 'staked_rewards': 4.89128715, 'piggy_token_allocaion': 2000}\n",
      "pool1jrn3nlmzt4r99fh5z450nnwqerwljzn426ffknfs9x8gcqgffst 281\n",
      "{'delegator_stake_key_id': 'stake1uyw5y6gwuhgkr2jall7nmzn6awffkeek90fpt03j7ycppequah84t', 'ada_staked': 46.825743, 'delegator_address': 'addr1qyfpn8yq7t8wck4fm63lurg7r25w4l3s0kejpfj5s0fzdtgagf5saew3vx49mlla8k9846ujndnnv27jzklr9ufszrjqnlns6l', 'epoc_staked': 281, 'epoc_unstaked': 'Current', 'staked_rewards': 2.3412871500000003, 'piggy_token_allocaion': 2000}\n",
      "pool1jrn3nlmzt4r99fh5z450nnwqerwljzn426ffknfs9x8gcqgffst 282\n",
      "AccountDelegationResponse(active_epoch=282, tx_hash='dd162bbd0026d5c4490fa2e168620b2b1fbbba1b4481826e336a55c93371a676', amount='325882982', pool_id='pool1jrn3nlmzt4r99fh5z450nnwqerwljzn426ffknfs9x8gcqgffst')\n",
      "{'delegator_stake_key_id': 'stake1u9ctf66hl3tet4988kqm0nazhx6h5utz7y350m5q4fad6egphr96d', 'ada_staked': 325.882982, 'delegator_address': 'addr1qy7j2844nv88f7krqqcdhnc7uad7pmpx3eyxfsnrskqcfpmskn440lzhjh22w0vpkl869wd40fck9ufrglhgp2n6m4jsl3kl8q', 'epoc_staked': 282, 'epoc_unstaked': 'Current', 'staked_rewards': 16.294149100000002, 'piggy_token_allocaion': 3000}\n",
      "pool1jrn3nlmzt4r99fh5z450nnwqerwljzn426ffknfs9x8gcqgffst 282\n",
      "{'delegator_stake_key_id': 'stake1ux3n7re5e7uh8mx2ktnvpgfe2h3rkqly5tm7k5zy54p4m4gzn5q66', 'ada_staked': 1413.292088, 'delegator_address': 'addr1qx4g73rq429kfl69wkph56ze6yns9mrgnvxe8g2f0cskvk9r8u8nfnaew0kv4vhxczsnj40z8vp7fghhadgyff2rth2sed8dg0', 'epoc_staked': 282, 'epoc_unstaked': 'Current', 'staked_rewards': 70.6646044, 'piggy_token_allocaion': 5000}\n",
      "pool1jrn3nlmzt4r99fh5z450nnwqerwljzn426ffknfs9x8gcqgffst 282\n",
      "{'delegator_stake_key_id': 'stake1uy56976g9qxzjg8k34ea6uwhrwfakr50ydhatalqmdktghc90r76j', 'ada_staked': 147.025743, 'delegator_address': 'addr1q8kdyjkgszjmkuqa4hle8ns8542eqgvnql46w387kac0dmef5ta5s2qv9ys0drtnm4cawxunmv8g7gm06hm7pkmvk30s78zd6p', 'epoc_staked': 282, 'epoc_unstaked': 'Current', 'staked_rewards': 7.351287150000001, 'piggy_token_allocaion': 3000}\n",
      "pool1jrn3nlmzt4r99fh5z450nnwqerwljzn426ffknfs9x8gcqgffst 282\n",
      "{'delegator_stake_key_id': 'stake1uykmwx4x4xvujysjlax3uy02yp2cpas48w64d5nx9rx0t6cytkvtp', 'ada_staked': 4030.988613, 'delegator_address': 'addr1q9djtna03ctf3ylr7ye4lvxjyvrdw6ywafx98z6xkkfl8tfdkud2d2veeyfp9l6drcg75gz4srmp2wa42mfxv2xv7h4sxejs2h', 'epoc_staked': 282, 'epoc_unstaked': 'Current', 'staked_rewards': 201.54943065, 'piggy_token_allocaion': 5000}\n"
     ]
    },
    {
     "name": "stdout",
     "output_type": "stream",
     "text": [
      "pool1jrn3nlmzt4r99fh5z450nnwqerwljzn426ffknfs9x8gcqgffst 282\n",
      "{'delegator_stake_key_id': 'stake1uxjhmhdv9qvk2mty6dpcttw87w080l8x8n6vppnz3k04jvgn9lvs0', 'ada_staked': 169.325743, 'delegator_address': 'addr1qyyyf36h2j8cup87p65w5t8tw47xlt5h2vvj3rpaw8u809a90hw6c2qev4kkf56rskku0uu7wl7wv085czrx9rvltycsfx2xln', 'epoc_staked': 282, 'epoc_unstaked': 'Current', 'staked_rewards': 8.46628715, 'piggy_token_allocaion': 3000}\n",
      "pool1jrn3nlmzt4r99fh5z450nnwqerwljzn426ffknfs9x8gcqgffst 283\n",
      "{'delegator_stake_key_id': 'stake1uxmqfu7dxre600dyjzf459f506jh099m6ctpllrefmk2d7swcw84v', 'ada_staked': 1946.924109, 'delegator_address': 'addr1qxp7sev6u75wfv6unrzpqlfqju0jgckrwanqcuqga6cw409kqneu6v8n5776fyyntg2ngl49w72th4skrl78jnhv5maqvh89ae', 'epoc_staked': 283, 'epoc_unstaked': 'Current', 'staked_rewards': 97.34620545000001, 'piggy_token_allocaion': 5000}\n",
      "pool1jrn3nlmzt4r99fh5z450nnwqerwljzn426ffknfs9x8gcqgffst 283\n",
      "{'delegator_stake_key_id': 'stake1u92rgg5er6fh9sn5fzpkm8gldplsndn2m7zezms4kg94p0q9247ac', 'ada_staked': 1639.045617, 'delegator_address': 'addr1qx7m3qrf98ruyplf4ycj8jgr5fzeaq8nl0vjvl695qx3spj5xs3fj85nwtp8gjyrdkw376rlpxmx4hu9j9hptvst2z7q3k9v06', 'epoc_staked': 283, 'epoc_unstaked': 'Current', 'staked_rewards': 81.95228085000001, 'piggy_token_allocaion': 5000}\n",
      "pool17ahr5ygy48vpdfnatqn2z4wfu2te4quapk2yx3k50ce6kd7feg0 283\n",
      "pool1jrn3nlmzt4r99fh5z450nnwqerwljzn426ffknfs9x8gcqgffst 284\n",
      "AccountDelegationResponse(active_epoch=284, tx_hash='a23222751f48fba2bce0cecd095286d13f1c80688b586135292ed981aade319e', amount='7480221', pool_id='pool1jrn3nlmzt4r99fh5z450nnwqerwljzn426ffknfs9x8gcqgffst')\n",
      "{'delegator_stake_key_id': 'stake1ux4r8ty7f7p6ew2tl00j4ucrlv0d0gr2z0kr4n8pr5t7mrgexu8ne', 'ada_staked': 1259.58562, 'delegator_address': 'addr1qyhzvgqf0sdrt5dlawnkv3dw7evejx9zw5crm8yy5t900da2xwkfunur4ju5h77l9tes87c767sx5ylv8txwz8ghakxsd9tvzm', 'epoc_staked': 284, 'epoc_unstaked': 'Current', 'staked_rewards': 62.97928100000001, 'piggy_token_allocaion': 5000}\n",
      "pool1jrn3nlmzt4r99fh5z450nnwqerwljzn426ffknfs9x8gcqgffst 287\n",
      "{'delegator_stake_key_id': 'stake1uy0ax2xhnje0u5ep2yqnfqzj0mxa9vwqrwhfxs8nv2vwk8g60jxc2', 'ada_staked': 52.425743, 'delegator_address': 'addr1q887paxf6f0c4d6a99wm2j0pyn4vgj7nnqy83tz4j408kasl6v5d089jlefjz5gpxjq9ylkd62cuqxawjdq0xc5cavwsl9v2t0', 'epoc_staked': 287, 'epoc_unstaked': 'Current', 'staked_rewards': 2.62128715, 'piggy_token_allocaion': 2000}\n",
      "pool1jrn3nlmzt4r99fh5z450nnwqerwljzn426ffknfs9x8gcqgffst 288\n",
      "{'delegator_stake_key_id': 'stake1u8nvm0an03ezyj3h9fstp2y3csx2l7x0jv89ppc65n9pw8qstfmyr', 'ada_staked': 1277.625699, 'delegator_address': 'addr1q8ft7r4uxkqkugvezwnkz8m8v5ry4wuuam4r5zkxllafxzhxeklmxlrjyf9rw2nqkz5fr3qv4luvlycw2zr34fx2zuwqdatxgu', 'epoc_staked': 288, 'epoc_unstaked': 'Current', 'staked_rewards': 63.88128495, 'piggy_token_allocaion': 5000}\n",
      "pool1jrn3nlmzt4r99fh5z450nnwqerwljzn426ffknfs9x8gcqgffst 289\n",
      "{'delegator_stake_key_id': 'stake1uxvggrnvpaenh4ztkv9ew5r8ynfpa7xgalz080ahpkxyw9cj4nyvc', 'ada_staked': 2513.65747, 'delegator_address': 'addr1q9nepcgah5a6k8g7enktagz5ngrqgpn0hhq4ru382fpsddvcss8xcrmn802yhvctjagxwfxjrmuv3m7y7wlmwrvvgutsy595hu', 'epoc_staked': 289, 'epoc_unstaked': 'Current', 'staked_rewards': 125.68287350000001, 'piggy_token_allocaion': 5000}\n",
      "pool1jrn3nlmzt4r99fh5z450nnwqerwljzn426ffknfs9x8gcqgffst 289\n",
      "{'delegator_stake_key_id': 'stake1u82ddyj7hu45j4dw829lkjy0xa9s7lvkw896ng7qfracxucj4vwzg', 'ada_staked': 96.825743, 'delegator_address': 'addr1q96j6mddhxhd4vttcnfeaccek5q00j7eqcfkv2jrrfs7sax566f9a0etf926uw5tldyg7d6tpa7evuwt4x3uqj8msdesk42z7p', 'epoc_staked': 289, 'epoc_unstaked': 'Current', 'staked_rewards': 4.84128715, 'piggy_token_allocaion': 2000}\n",
      "pool1jrn3nlmzt4r99fh5z450nnwqerwljzn426ffknfs9x8gcqgffst 289\n",
      "{'delegator_stake_key_id': 'stake1u86exddqcz9n7kwxfw8tmedal3syn06aqah8a608wgw6uhq88fvgp', 'ada_staked': 823.437572, 'delegator_address': 'addr1qxl53u7ryn6qwwn0fdadruxjxynhlfdlzvyvjq7ws85mlal4jv66psyt8avuvjuwhhjmmlrqfxl46pmw0m57wusa4ewq5vmrcn', 'epoc_staked': 289, 'epoc_unstaked': 'Current', 'staked_rewards': 41.17187860000001, 'piggy_token_allocaion': 3000}\n",
      "pool1nwt6mxqus3tpzrshky5h5kykz9rjpxmacrvw0z6yak9uk5p5045 274\n",
      "pool1jrn3nlmzt4r99fh5z450nnwqerwljzn426ffknfs9x8gcqgffst 289\n",
      "AccountDelegationResponse(active_epoch=289, tx_hash='e6cbd6376ba4d075b09083589d2877001ce65c34b3db8d70ae0803fc22df4753', amount='4219514588', pool_id='pool1jrn3nlmzt4r99fh5z450nnwqerwljzn426ffknfs9x8gcqgffst')\n",
      "{'delegator_stake_key_id': 'stake1uy3tgxtlu4ehp3hd7hmnmrh4w26t7ljuq8aam55ne2r57ngxte43c', 'ada_staked': 4244.534371, 'delegator_address': 'addr1qy6aftwguqw49t2qnn5ttwsqcvkvrewmz9uzgsda6mmpjd3zksvhletnwrrwma0h8k802u45hal9cq0mmhff8j58faxs4dhgu3', 'epoc_staked': 289, 'epoc_unstaked': 'Current', 'staked_rewards': 212.22671855, 'piggy_token_allocaion': 5000}\n",
      "pool1jrn3nlmzt4r99fh5z450nnwqerwljzn426ffknfs9x8gcqgffst 289\n",
      "{'delegator_stake_key_id': 'stake1uxu4322rz2xts2ll70cck0nzmvqyf3fkxw349yvn0x39jmcfmc7hj', 'ada_staked': 343.324863, 'delegator_address': 'addr1q8kz6tyws4p85yapsgtxee6tgn8zn5k39gnz7p3qk5m2h5aetz55xy5vhq4llul33vlx9kcqgnznvvar22gex7dzt9hs96xj2y', 'epoc_staked': 289, 'epoc_unstaked': 'Current', 'staked_rewards': 17.16624315, 'piggy_token_allocaion': 3000}\n",
      "pool1jrn3nlmzt4r99fh5z450nnwqerwljzn426ffknfs9x8gcqgffst 291\n",
      "{'delegator_stake_key_id': 'stake1uxr7x4jlyjrff28vqch8ds4ca88js9nx6ava8gcxft4cqqcc4qdmf', 'ada_staked': 1362.124863, 'delegator_address': 'addr1q8ptngwzhx8rj82xjzcmdp64sc79wfjpjte4ltrpfv845jv8udt97fyxjj5wcp3wwmpt36w09qtxd46e6w3svjhtsqpshgzf6w', 'epoc_staked': 291, 'epoc_unstaked': 'Current', 'staked_rewards': 68.10624315, 'piggy_token_allocaion': 5000}\n",
      "pool1jrn3nlmzt4r99fh5z450nnwqerwljzn426ffknfs9x8gcqgffst 291\n",
      "{'delegator_stake_key_id': 'stake1u975emwguy30htnsfassmscg9mmrrgrer96shpmmzpy4z7q2x7znd', 'ada_staked': 1011.924863, 'delegator_address': 'addr1qxsp78jsr8cw5fq09wjmx4xuruzqnkglsy7hx8cjkrlqaprafnku3cfzlwh8qnmpphpssthkxxs8jxt4pwrhkyzf29uqxgzfhe', 'epoc_staked': 291, 'epoc_unstaked': 'Current', 'staked_rewards': 50.59624315, 'piggy_token_allocaion': 5000}\n",
      "pool1jrn3nlmzt4r99fh5z450nnwqerwljzn426ffknfs9x8gcqgffst 291\n",
      "{'delegator_stake_key_id': 'stake1u8vjyry39u4p04fxprz5qmwlgrq93dq22hd0zrcjlufq3tsmms6kg', 'ada_staked': 146.590599, 'delegator_address': 'addr1qxka0t8n4378thuyc0f0uw7crxv2mvknyelm2cy49gl3klkeygxfzte2zl2jvzx9gpka7sxqtz6q54w67y839lcjpzhqyclytj', 'epoc_staked': 291, 'epoc_unstaked': 'Current', 'staked_rewards': 7.32952995, 'piggy_token_allocaion': 3000}\n",
      "pool1jrn3nlmzt4r99fh5z450nnwqerwljzn426ffknfs9x8gcqgffst 291\n",
      "{'delegator_stake_key_id': 'stake1u92pykueze3sudczw0wz5hl5k0fa6qwdjs7lwfdqjys80es63ylxn', 'ada_staked': 3195.164593, 'delegator_address': 'addr1qytmt7ywmmr6y0wnefu4m3umppxqnnjyvmrjg6s9pwj8s925zfdej9nrpcmsyu7u9f0lfv7nm5qum9pa7uj6pyfqwlnqstjevt', 'epoc_staked': 291, 'epoc_unstaked': 'Current', 'staked_rewards': 159.75822965, 'piggy_token_allocaion': 5000}\n",
      "pool1jrn3nlmzt4r99fh5z450nnwqerwljzn426ffknfs9x8gcqgffst 283\n",
      "AccountDelegationResponse(active_epoch=292, tx_hash='337cffd510fe3b40786ee6cf50155105c421fb3dec592eb1d7953a91c08e55bb', amount='1545547', pool_id='pool1jrn3nlmzt4r99fh5z450nnwqerwljzn426ffknfs9x8gcqgffst')\n",
      "{'delegator_stake_key_id': 'stake1uxqvnn9t9j936pujlyvenmt84f6wyyyn60ue8vegd74t9rq4mqanu', 'ada_staked': 124.715967, 'delegator_address': 'addr1q8sqtelr7jpvtuszmcuye0597xzlmm673288jvj7ptwf3j5qe8x2ktytr5re97gen8kk02n5uggf85lejwejsma2k2xqd796mt', 'epoc_staked': 283, 'epoc_unstaked': 'Current', 'staked_rewards': 6.2357983500000005, 'piggy_token_allocaion': 3000}\n",
      "pool1jrn3nlmzt4r99fh5z450nnwqerwljzn426ffknfs9x8gcqgffst 293\n",
      "{'delegator_stake_key_id': 'stake1u8pg9qzm07fgaazh82hqwaw9vk53za7uydk039umkg474ms8e7hcc', 'ada_staked': 4716.572878, 'delegator_address': 'addr1qx6xwtj4jf5ngv27tc6dpus2sf93qgg7dv3ncc9g2ms849xzs2q9kluj3m69ww4wqa6u2edfz9macgmvlztehv3tathqnex0n2', 'epoc_staked': 293, 'epoc_unstaked': 'Current', 'staked_rewards': 235.8286439, 'piggy_token_allocaion': 5000}\n",
      "pool1jrn3nlmzt4r99fh5z450nnwqerwljzn426ffknfs9x8gcqgffst 293\n",
      "{'delegator_stake_key_id': 'stake1u90a0cvdv07qwklrfafr7894x0urertyljqqcj0s5lj4nqg09aarl', 'ada_staked': 2500.525743, 'delegator_address': 'addr1qxu4jde7wfpqmzwa20vz3exy6w6krwlcr0ddzea8fp03752l6lsc6cluqad7xn6j8uwt2vlc8jxkflyqp3ylpfl9txqsq0csyq', 'epoc_staked': 293, 'epoc_unstaked': 'Current', 'staked_rewards': 125.02628715000002, 'piggy_token_allocaion': 5000}\n"
     ]
    },
    {
     "name": "stdout",
     "output_type": "stream",
     "text": [
      "pool1jrn3nlmzt4r99fh5z450nnwqerwljzn426ffknfs9x8gcqgffst 293\n",
      "{'delegator_stake_key_id': 'stake1uxq2kpu0gmveyu9effm0dck2sltsqc20mxcg47sfsaveldcylluqv', 'ada_staked': 507.825743, 'delegator_address': 'addr1qxjztfald63hecxrrg0tenqunnujcfsperxet4xqsf3y9zuq4vrc73kejfctjjnk7m3v4p7hqps5lkds3taqnp6en7ms0wmfs7', 'epoc_staked': 293, 'epoc_unstaked': 'Current', 'staked_rewards': 25.39128715, 'piggy_token_allocaion': 3000}\n",
      "pool1jrn3nlmzt4r99fh5z450nnwqerwljzn426ffknfs9x8gcqgffst 294\n",
      "{'delegator_stake_key_id': 'stake1uxwfvns5z5stuaw25p5tk4e5gdqdw7qcxy8hfyv4qgswqkqxlpnz4', 'ada_staked': 2293.767246, 'delegator_address': 'addr1qxcz595vp7ykxwenp0sgr7ng3uuc9cw98mk5lvxlz7l52dyuje8pg9fqhe6u4grghdtngs6q6aupsvg0wjge2q3qupvq3tvtlu', 'epoc_staked': 294, 'epoc_unstaked': 'Current', 'staked_rewards': 114.6883623, 'piggy_token_allocaion': 5000}\n",
      "pool1jrn3nlmzt4r99fh5z450nnwqerwljzn426ffknfs9x8gcqgffst 294\n",
      "{'delegator_stake_key_id': 'stake1u9mxz8w3lj5w9ryyskcjakhah6z9e29yg5ptkmy0zwfy8mq8mchgr', 'ada_staked': 562.625743, 'delegator_address': 'addr1qy0szusk9wrh9xttud5wa7szy25ne54nln9p6l5tfysr9ftkvywarl9gu2xgfpd39md0m05ytj52g3gzhdkg7yujg0kq5557e5', 'epoc_staked': 294, 'epoc_unstaked': 'Current', 'staked_rewards': 28.131287150000006, 'piggy_token_allocaion': 3000}\n",
      "pool1jrn3nlmzt4r99fh5z450nnwqerwljzn426ffknfs9x8gcqgffst 295\n",
      "{'delegator_stake_key_id': 'stake1u93lkppqvrqllug5sye5a4c4vkm83t6aedynkd96n5jl23shz0myx', 'ada_staked': 102.825743, 'delegator_address': 'addr1qye8wgs9k8jk4uzr6atjd8uu4kxu8ykdpyjflhxshcssyetrlvzzqcxpllc3fqfnfmt32edk0zh4mj6f8v6t48f974rqkf24zk', 'epoc_staked': 295, 'epoc_unstaked': 'Current', 'staked_rewards': 5.14128715, 'piggy_token_allocaion': 3000}\n",
      "pool1jrn3nlmzt4r99fh5z450nnwqerwljzn426ffknfs9x8gcqgffst 296\n",
      "{'delegator_stake_key_id': 'stake1uy2ne585sntr4z42nqhurn9366g5z7z2euxajvlu2j8m9hcgmcmh2', 'ada_staked': 1802.825743, 'delegator_address': 'addr1q82vma4u0v6ce3sc76kt2j3t8ahcdltxrqc6lm5wkmuaags48ng0fpxk82924xp0c8xtr453g9uy4ncdmyelc4y0kt0sfqx7y9', 'epoc_staked': 296, 'epoc_unstaked': 'Current', 'staked_rewards': 90.14128715000001, 'piggy_token_allocaion': 5000}\n",
      "pool1jrn3nlmzt4r99fh5z450nnwqerwljzn426ffknfs9x8gcqgffst 296\n",
      "{'delegator_stake_key_id': 'stake1ux3jnt4hyyk6qky30x95nlvnz53pu24cftzcxk2snfd6hwcpxgz9d', 'ada_staked': 1040.641575, 'delegator_address': 'addr1qxsu0x9a83wltxtd2nddhv2dv4yqhg7w4d22ldrudsc78xdr9xhtwgfd5pvfz7vtf87ex9fzrc4tsjk9sdv4pxjm4wassrz4j6', 'epoc_staked': 296, 'epoc_unstaked': 'Current', 'staked_rewards': 52.03207875000001, 'piggy_token_allocaion': 5000}\n",
      "pool1jrn3nlmzt4r99fh5z450nnwqerwljzn426ffknfs9x8gcqgffst 297\n",
      "{'delegator_stake_key_id': 'stake1uydsh973auu87c0y7zhyjf63lvmp2478fz0d9z4rnucmylgtkweu9', 'ada_staked': 97.645722, 'delegator_address': 'addr1q96naqy54zw7aj2euv57ds5vqkqa84w5m2uwsldj7a2wyhcmpwtarmec0as7fu9wfyn4r7ekz4tuwjy7629288e3kf7s2f7sam', 'epoc_staked': 297, 'epoc_unstaked': 'Current', 'staked_rewards': 4.882286100000001, 'piggy_token_allocaion': 2000}\n",
      "pool1jrn3nlmzt4r99fh5z450nnwqerwljzn426ffknfs9x8gcqgffst 280\n",
      "AccountDelegationResponse(active_epoch=297, tx_hash='f9343d53217c7ad4c9400fc8953de91a6c3315e607b81432efab87425c2a7559', amount='25000819818', pool_id='pool1jrn3nlmzt4r99fh5z450nnwqerwljzn426ffknfs9x8gcqgffst')\n",
      "{'delegator_stake_key_id': 'stake1uyen2e7z4a8cafc3yqsdqxczttgh3kav2tmgsvrjqg04jlqgvndu4', 'ada_staked': 25000.819818, 'delegator_address': 'addr1qxpsa4spmwdyr5a2l4v4mhgmrp09cpdzkvv67lxmeyqu9tenx4nu9t6036n3zgpq6qdsykk30rd6c5hk3qc8yqslt97qq0sngh', 'epoc_staked': 280, 'epoc_unstaked': 'Current', 'staked_rewards': 1250.0409909, 'piggy_token_allocaion': 10000}\n",
      "pool1jrn3nlmzt4r99fh5z450nnwqerwljzn426ffknfs9x8gcqgffst 297\n",
      "{'delegator_stake_key_id': 'stake1u8g2llg9xa7hqt9vdnfqckjlqyqdzjnfm47467qh4cymnaqq30e9e', 'ada_staked': 2591.804911, 'delegator_address': 'addr1qx69fzeqwvwa37pmmkcr2n7jc7rrt8a5hzx6rp5jg557xgks4l7s2dmawqk2cmxjp3d97qgq699xnhtat4up0tsfh86q96effw', 'epoc_staked': 297, 'epoc_unstaked': 'Current', 'staked_rewards': 129.59024555000002, 'piggy_token_allocaion': 5000}\n",
      "pool1jrn3nlmzt4r99fh5z450nnwqerwljzn426ffknfs9x8gcqgffst 297\n",
      "{'delegator_stake_key_id': 'stake1uxv24s8uz6jlfsnhqzs42nqej7zheffqtmz0a8d4l6rxggs8z8wpg', 'ada_staked': 1764.95664, 'delegator_address': 'addr1qyaxyta3c7lzkrpmytlqfxpgfn4ygy8p5v3yq9ecjny288vc4tq0c9497np8wq9p24xpn9u90jjjqhkyl6wmtl5xvs3qlerh7l', 'epoc_staked': 297, 'epoc_unstaked': 'Current', 'staked_rewards': 88.24783200000002, 'piggy_token_allocaion': 5000}\n",
      "pool173mzegwuu0pjcrt60ekelzj5haqr8r5e4e0n45qh9jdz7xm5kh8 272\n",
      "pool1jrn3nlmzt4r99fh5z450nnwqerwljzn426ffknfs9x8gcqgffst 297\n",
      "AccountDelegationResponse(active_epoch=297, tx_hash='a4bf7017388e3082da2ba77d7c2b5c27a799eb6af2ebc728c99ce714b99f056e', amount='646286154', pool_id='pool1jrn3nlmzt4r99fh5z450nnwqerwljzn426ffknfs9x8gcqgffst')\n",
      "{'delegator_stake_key_id': 'stake1ux0u76j5cr6mranf8p48esuw8pu5pdldra2g7pqcvdrxmnsgxqw76', 'ada_staked': 2446.651801, 'delegator_address': 'addr1qy53mtl6sh09jgs8vxl6agtlnjjf8u0e6g0kdygqvz27eg5lea49fs84k8mxjwr20npcuwregzm768653uzpsc6xdh8qywxyhk', 'epoc_staked': 297, 'epoc_unstaked': 'Current', 'staked_rewards': 122.33259005000001, 'piggy_token_allocaion': 5000}\n",
      "pool1vc8jhqtwjrjwsfk6a0enx47hd2ufg98c34ta6lvl0zv0uhpech9 247\n",
      "pool1gpz25s2aasmqnh9tg8a2rxmyxuvmj5s779htxk295e9ajnzjflc 268\n",
      "pool1jrn3nlmzt4r99fh5z450nnwqerwljzn426ffknfs9x8gcqgffst 297\n",
      "AccountDelegationResponse(active_epoch=297, tx_hash='60a5921fb23d1a21fe4596a1f55614532b0df58540e1d68fa06455f00ed8c4df', amount='3201002190000', pool_id='pool1jrn3nlmzt4r99fh5z450nnwqerwljzn426ffknfs9x8gcqgffst')\n",
      "{'delegator_stake_key_id': 'stake1uxgrlr0fthwewyn4umj5kwa4u6nd2dggk532dp7xyxxtkegvg7tu9', 'ada_staked': 3301595.68692, 'delegator_address': 'addr1qyydh73adyll5zk24xudtc79vh4gefwcdt30f6zw4xd7c75s87x7jhwajuf8teh9fvamte4x656s3dfz56ruvgvvhdjsduun5x', 'epoc_staked': 297, 'epoc_unstaked': 'Current', 'staked_rewards': 165079.784346, 'piggy_token_allocaion': None}\n",
      "pool1jrn3nlmzt4r99fh5z450nnwqerwljzn426ffknfs9x8gcqgffst 298\n",
      "{'delegator_stake_key_id': 'stake1uy3an89wtvpl603hv402dyva7kq5ammttvzyn37n5p5x4zst2ws73', 'ada_staked': 299.819715, 'delegator_address': 'addr1q83fefja6nvv2qwkecx7f7847tenanw4cszg93ywfhwzp0ermxw2ukcrl5lrwe2756gemavpfmhkkkcyf8ra8grgd29qgj6y4x', 'epoc_staked': 298, 'epoc_unstaked': 'Current', 'staked_rewards': 14.99098575, 'piggy_token_allocaion': 3000}\n",
      "pool1jrn3nlmzt4r99fh5z450nnwqerwljzn426ffknfs9x8gcqgffst 298\n",
      "{'delegator_stake_key_id': 'stake1u8p6tc4ce0dy5pku86enud65uh6lckgrh3fr8ccxtn4sqtqnu5fak', 'ada_staked': 167.825743, 'delegator_address': 'addr1q8gswnuc3qx87pu80q7a85pvxgnuzl5jqlhsu9rrt4feddkr5h3t3j76fgrdc04n8cm4fe04l3vs80zjx03svh8tqqkq8nnqjv', 'epoc_staked': 298, 'epoc_unstaked': 'Current', 'staked_rewards': 8.39128715, 'piggy_token_allocaion': 3000}\n",
      "pool1jrn3nlmzt4r99fh5z450nnwqerwljzn426ffknfs9x8gcqgffst 298\n",
      "{'delegator_stake_key_id': 'stake1uxv50wj0e5hek36gtvvsatzn6wgdx95hhn440tk2w34wfvqtrf3n5', 'ada_staked': 1502.825743, 'delegator_address': 'addr1q9elek45gjywelp9dhg6cqz20ya3femfl4nmt0clsuqy7w5eg7aylnf0ndr5skcep6k985us6vtf008t27hv5ar2ujcqg6rw5m', 'epoc_staked': 298, 'epoc_unstaked': 'Current', 'staked_rewards': 75.14128715000001, 'piggy_token_allocaion': 5000}\n",
      "pool1jrn3nlmzt4r99fh5z450nnwqerwljzn426ffknfs9x8gcqgffst 298\n",
      "{'delegator_stake_key_id': 'stake1u9n3eu54zjw3y6lhuxlm7a7w4h2h052rq3xnhhtfr4yaqxgsmhl7s', 'ada_staked': 97.825743, 'delegator_address': 'addr1q9tw6hejsxu3xlfxgp76spurnzxhuxjnh08jm4kks4pwc8r8rnef29yazf4l0cdlhamuatw4wlg5xpzd80wkj82f6qvs9ld3y3', 'epoc_staked': 298, 'epoc_unstaked': 'Current', 'staked_rewards': 4.89128715, 'piggy_token_allocaion': 2000}\n",
      "pool1jrn3nlmzt4r99fh5z450nnwqerwljzn426ffknfs9x8gcqgffst 298\n",
      "{'delegator_stake_key_id': 'stake1u9d9hnnhnar5a8mc0ajp7q3w0sk9m3dn8q2wcrjyeyy7cssss8mfv', 'ada_staked': 996.825743, 'delegator_address': 'addr1q89mpt6qcuk4qcq5mcfhu579gtd56e8lylf9azwex4gmml66t0880868f60hslmyrupzulpvthzmxwq5as8yfjgfa3pqr6qqaz', 'epoc_staked': 298, 'epoc_unstaked': 'Current', 'staked_rewards': 49.84128715, 'piggy_token_allocaion': 3000}\n",
      "pool1jrn3nlmzt4r99fh5z450nnwqerwljzn426ffknfs9x8gcqgffst 298\n",
      "{'delegator_stake_key_id': 'stake1u8y67xrwelx79twnjv5xrnr5jcg609ktzkpkdu2ql8589hshvrand', 'ada_staked': 246.825743, 'delegator_address': 'addr1qxj6cv6204699wyxndfv0xcjd8efru0rsyralhwllj553kxf4uvxan7du2ka8yegv8x8f9s357tvk9vrvmc5p70gwt0qm95y5m', 'epoc_staked': 298, 'epoc_unstaked': 'Current', 'staked_rewards': 12.34128715, 'piggy_token_allocaion': 3000}\n"
     ]
    },
    {
     "name": "stdout",
     "output_type": "stream",
     "text": [
      "pool1jrn3nlmzt4r99fh5z450nnwqerwljzn426ffknfs9x8gcqgffst 298\n",
      "{'delegator_stake_key_id': 'stake1uxkrv2c7kyjhvmwx77y436a0tv8ck3myugd7nyz0svyxr6ghzthel', 'ada_staked': 160.445722, 'delegator_address': 'addr1qxhv233t74w9xmhz7avuya5gufxd7h2qshh6884wv6aaq4dvxc43avf9wekudauftr467kc03drkfcsmaxgylqcgv85scu2w26', 'epoc_staked': 298, 'epoc_unstaked': 'Current', 'staked_rewards': 8.0222861, 'piggy_token_allocaion': 3000}\n",
      "pool1jrn3nlmzt4r99fh5z450nnwqerwljzn426ffknfs9x8gcqgffst 298\n",
      "{'delegator_stake_key_id': 'stake1u9jfufe30kuggh5jkr5fek5a6j86zn4xd6mdgyzpf4540hsrxxv3g', 'ada_staked': 1067.425612, 'delegator_address': 'addr1q98dqd0lghnc3n7l3fpgq0fphwsdw9ass5nqp0v3mljytwryncnnzldcs30f9v8gnndfm4y05982vm4k6sgyzntf2l0qa6f4uu', 'epoc_staked': 298, 'epoc_unstaked': 'Current', 'staked_rewards': 53.371280600000006, 'piggy_token_allocaion': 5000}\n",
      "pool1jrn3nlmzt4r99fh5z450nnwqerwljzn426ffknfs9x8gcqgffst 298\n",
      "{'delegator_stake_key_id': 'stake1u8ee40ynqs6n4wp6r9gmea68q3f4yjuz7kxhhs7hllm3r0qy4j7qf', 'ada_staked': 407.825743, 'delegator_address': 'addr1q9yq5hph96jh6n6jkqqwv8yuesx6y256rjzk8vzvdyj555lnn27fxpp482ur5x23hnm5wpzn2f9c9avd00pa0llhzx7q4a07w8', 'epoc_staked': 298, 'epoc_unstaked': 'Current', 'staked_rewards': 20.39128715, 'piggy_token_allocaion': 3000}\n",
      "pool1jrn3nlmzt4r99fh5z450nnwqerwljzn426ffknfs9x8gcqgffst 298\n",
      "{'delegator_stake_key_id': 'stake1u84am02mgx5cafcy95w679exwckkguwfs3d7t7jg0a8hlkcr48d04', 'ada_staked': 1507.825743, 'delegator_address': 'addr1qx7f603ng0mchfjsml6vwachm57tjt8whvffqv78ef6ne80tmk74ksdf36nsgtga4utjva3dv3cunpzmuhaysl600ldsltcws4', 'epoc_staked': 298, 'epoc_unstaked': 'Current', 'staked_rewards': 75.39128715000001, 'piggy_token_allocaion': 5000}\n",
      "pool1jrn3nlmzt4r99fh5z450nnwqerwljzn426ffknfs9x8gcqgffst 298\n",
      "{'delegator_stake_key_id': 'stake1u8p8szhcjve2rhpc2rhahvymzxp5qcgn37qjx5t5s3t7qggzk4d2r', 'ada_staked': 497.824643, 'delegator_address': 'addr1q85ypyza80vnsp7p7ycs2v5pw0gg6vp685r8a24dhvm0y6wz0q903yej58wrs580mwcfkyvrgps38rupydghfpzhuqssase9pk', 'epoc_staked': 298, 'epoc_unstaked': 'Current', 'staked_rewards': 24.89123215, 'piggy_token_allocaion': 3000}\n",
      "pool1jrn3nlmzt4r99fh5z450nnwqerwljzn426ffknfs9x8gcqgffst 298\n",
      "{'delegator_stake_key_id': 'stake1u8374e4uq4fc320gs6x4cuwh6g2s4jm5a6r88attt754dmq6x6d7h', 'ada_staked': 1297.562238, 'delegator_address': 'addr1q897227dxyhzhxhgtpc0zqdufvmk66erd7h8zn0wh7e4rs0ratntcp2n3z573p5dt3ca05s4pt9hfm5xw06kkhaf2mkq6tt584', 'epoc_staked': 298, 'epoc_unstaked': 'Current', 'staked_rewards': 64.87811190000001, 'piggy_token_allocaion': 5000}\n",
      "pool1jrn3nlmzt4r99fh5z450nnwqerwljzn426ffknfs9x8gcqgffst 298\n",
      "{'delegator_stake_key_id': 'stake1uycngdandt5v8kpe6gvd7ydger9t50ajyau92gd36tc7vcqc2ylua', 'ada_staked': 272.625743, 'delegator_address': 'addr1qxs27lty0zxu7fyhlmdhqerty93e77ztj3r0r4sfwd828af3xsmmx6hgc0vrn5scmug63jx2hglmyfmc25smr5h3uesq7v9dek', 'epoc_staked': 298, 'epoc_unstaked': 'Current', 'staked_rewards': 13.63128715, 'piggy_token_allocaion': 3000}\n",
      "pool1jrn3nlmzt4r99fh5z450nnwqerwljzn426ffknfs9x8gcqgffst 298\n",
      "{'delegator_stake_key_id': 'stake1u8mglns5fdsdh7sr8enacq7antseeaaj2jwstnqelxvq2lcmj583c', 'ada_staked': 459.084685, 'delegator_address': 'addr1q88twlgxkm60ragglkg04gc3mm539jprec7629e3668dpx8k3l8pgjmqm0aqx0n8mspamxhpnnmmy4yaqhxpn7vcq4lsghdndg', 'epoc_staked': 298, 'epoc_unstaked': 'Current', 'staked_rewards': 22.95423425, 'piggy_token_allocaion': 3000}\n",
      "pool1jrn3nlmzt4r99fh5z450nnwqerwljzn426ffknfs9x8gcqgffst 298\n",
      "{'delegator_stake_key_id': 'stake1uyyc7rnqszf66gnugutf79d5gkvj5zqjua78yyptcjdt7msvqz2yt', 'ada_staked': 97.825743, 'delegator_address': 'addr1q84yp4v4v3ku2dun3rgjvral02jc42qvn9dveq8q29f68uqf3u8xpqyn4538c3cknu2mg3ve9gyp9emuwggzh3y6hahqy575vr', 'epoc_staked': 298, 'epoc_unstaked': 'Current', 'staked_rewards': 4.89128715, 'piggy_token_allocaion': 2000}\n",
      "pool1jrn3nlmzt4r99fh5z450nnwqerwljzn426ffknfs9x8gcqgffst 298\n",
      "{'delegator_stake_key_id': 'stake1u8y8ddjelhth7rzu9vvjlnn7q5g3y79l47l8m69mp4j7assjwjcxr', 'ada_staked': 1997.825743, 'delegator_address': 'addr1qy6800wk87w5du89t7va43q848wckvt9tdjkvwr8sa65x4kgw6m9nlwh0ux9c2ce9l88upg3zfutlta70h5tkrt9ampqsv8ud5', 'epoc_staked': 298, 'epoc_unstaked': 'Current', 'staked_rewards': 99.89128715000001, 'piggy_token_allocaion': 5000}\n",
      "pool1zmfpd5r5vfwjmwm4cgy53exe58h7plnecny3t4948yw7zumzp4c 269\n",
      "pool1qa6lqyu67ghpa0evxfu9nzqkj3h82qpfku82ec79zdwru4pd25m 270\n",
      "pool1jrn3nlmzt4r99fh5z450nnwqerwljzn426ffknfs9x8gcqgffst 298\n",
      "AccountDelegationResponse(active_epoch=298, tx_hash='51e1fbf57b02c363d189f64e6285af3e435d0388a9c5a0f9cfc50f82fdb1d406', amount='497452982', pool_id='pool1jrn3nlmzt4r99fh5z450nnwqerwljzn426ffknfs9x8gcqgffst')\n",
      "{'delegator_stake_key_id': 'stake1u9djrrzku2gfp9kptnchafk9036rdqtsz4sls8fk3cq4vaqr3m0te', 'ada_staked': 1687.528782, 'delegator_address': 'addr1q8u7x89ddtyucnqea7t2l8m37xpt7ca9y38td29k8efcf6zmyxx9dc5sjztvzh8306nv2lr5x6qhq9tplqwndrsp2e6q8f80cw', 'epoc_staked': 298, 'epoc_unstaked': 'Current', 'staked_rewards': 84.37643910000001, 'piggy_token_allocaion': 5000}\n",
      "pool173mzegwuu0pjcrt60ekelzj5haqr8r5e4e0n45qh9jdz7xm5kh8 261\n",
      "pool1jrn3nlmzt4r99fh5z450nnwqerwljzn426ffknfs9x8gcqgffst 299\n",
      "AccountDelegationResponse(active_epoch=299, tx_hash='f931f16a76558c3ae8024fc7f530b5d2b1370a768e0d79186bf4529ae75ccb4b', amount='1497452982', pool_id='pool1jrn3nlmzt4r99fh5z450nnwqerwljzn426ffknfs9x8gcqgffst')\n",
      "{'delegator_stake_key_id': 'stake1u97f9zxmwuv62f0938z4jlmy62vja8w2wy6ddejzt6gqtrq49z0mn', 'ada_staked': 4870.179008, 'delegator_address': 'addr1q9y7xvaylcd3ty9dnxqs53hurssp53kvnkh7vu5r389tdvmuj2ydkace55j7tzw9t9lkf55e96wu5uf56mnyyh5sqkxqg23twj', 'epoc_staked': 299, 'epoc_unstaked': 'Current', 'staked_rewards': 243.5089504, 'piggy_token_allocaion': 5000}\n",
      "pool1jrn3nlmzt4r99fh5z450nnwqerwljzn426ffknfs9x8gcqgffst 299\n",
      "{'delegator_stake_key_id': 'stake1uy4upuv8r48j3xlypfafrysszaqtstljf7rymuxu0xf3a4qq0977q', 'ada_staked': 1007.825743, 'delegator_address': 'addr1qy3w9yjgar4cmphswgz35xhurjkuv8a29x55tsfd0sgq2rptcrccw8209zd7gzn6jxfpq96qhqhlynuxfhcdc7vnrm2q4hnwen', 'epoc_staked': 299, 'epoc_unstaked': 'Current', 'staked_rewards': 50.391287150000004, 'piggy_token_allocaion': 5000}\n",
      "pool1jrn3nlmzt4r99fh5z450nnwqerwljzn426ffknfs9x8gcqgffst 299\n",
      "{'delegator_stake_key_id': 'stake1uxjtgvr8r6ntr0u8h5dm9fvl6p0cvqug2nc2wujgfp3eezqaz0s7t', 'ada_staked': 369.125743, 'delegator_address': 'addr1q8nf7ek5j6q358vg9tjg8n85wvrk8yfy27yk58swekyluaaykscxw84xkxlc00gmk2jel5zlscpcs48s5aeysjrrnjyqfcch4t', 'epoc_staked': 299, 'epoc_unstaked': 'Current', 'staked_rewards': 18.45628715, 'piggy_token_allocaion': 3000}\n"
     ]
    }
   ],
   "source": [
    "mylo = []\n",
    "for delegator in delegators:\n",
    "    delegator_details= {}\n",
    "    delegator_details['delegator_stake_key_id'] = delegator.address\n",
    "    delegator_details['ada_staked'] = int(delegator.live_stake)/1000000\n",
    "    delegator_details['delegator_address'] = delegator_wallet_address(delegator_details['delegator_stake_key_id'])\n",
    "    epocs = epoch_details(delegator_details['delegator_stake_key_id'],pool_id)\n",
    "    delegator_details['epoc_staked'] = epocs[0]\n",
    "    delegator_details['epoc_unstaked'] = epocs[1]\n",
    "    delegator_details['staked_rewards'] = delegator_details['ada_staked'] * 0.05\n",
    "    delegator_details['piggy_token_allocaion'] = pigy_token_allocation(delegator_details['ada_staked'])\n",
    "    print(delegator_details)\n",
    "    mylo.append(delegator_details)\n"
   ]
  },
  {
   "cell_type": "code",
   "execution_count": 29,
   "metadata": {},
   "outputs": [
    {
     "name": "stdout",
     "output_type": "stream",
     "text": [
      "                               delegator_stake_key_id   ada_staked  \\\n",
      "0   stake1uxt7j0g9722g0h2khhmeew7e9xcmdpkn3vdw9q9h...  1437.361263   \n",
      "1   stake1u9e46eyzzca8hrrratchg8leehe30exkqy485l4f...     0.000000   \n",
      "2   stake1uyhun2mjmggenx724fhqgwyhwjaszsuvw33w7fd2...   149.824863   \n",
      "3   stake1uyp9gng8yv29zlk9rqchr0ak58fjk74nt2xsamyy...    97.824863   \n",
      "4   stake1u8lat4955yz6n45gyy3hpesejayn4wtuxncv79wm...   525.053349   \n",
      "..                                                ...          ...   \n",
      "64  stake1u8y8ddjelhth7rzu9vvjlnn7q5g3y79l47l8m69m...  1997.825743   \n",
      "65  stake1u9djrrzku2gfp9kptnchafk9036rdqtsz4sls8fk...  1687.528782   \n",
      "66  stake1u97f9zxmwuv62f0938z4jlmy62vja8w2wy6ddejz...  4870.179008   \n",
      "67  stake1uy4upuv8r48j3xlypfafrysszaqtstljf7rymuxu...  1007.825743   \n",
      "68  stake1uxjtgvr8r6ntr0u8h5dm9fvl6p0cvqug2nc2wujg...   369.125743   \n",
      "\n",
      "                                    delegator_address  epoc_staked  \\\n",
      "0   addr1q9w35rv6m07t0saxd25lykve47pcx0svya9uwnvwj...          280   \n",
      "1   addr1q8j0w8mazkrucvk5geaezwvx09z0z6h0p022vxeeh...          280   \n",
      "2   addr1q84l8mr3rd7l8g26546axhxzxqd54wc8wup6muknk...          281   \n",
      "3   addr1qxr29fjktael9c5n24ujtwe6vvcpxtdgdt45px8ry...          281   \n",
      "4   addr1qyslkvp5hvx8cndwx9lhkwsmzd5ye94wyqwzz2txv...          281   \n",
      "..                                                ...          ...   \n",
      "64  addr1qy6800wk87w5du89t7va43q848wckvt9tdjkvwr8s...          298   \n",
      "65  addr1q8u7x89ddtyucnqea7t2l8m37xpt7ca9y38td29k8...          298   \n",
      "66  addr1q9y7xvaylcd3ty9dnxqs53hurssp53kvnkh7vu5r3...          299   \n",
      "67  addr1qy3w9yjgar4cmphswgz35xhurjkuv8a29x55tsfd0...          299   \n",
      "68  addr1q8nf7ek5j6q358vg9tjg8n85wvrk8yfy27yk58swe...          299   \n",
      "\n",
      "   epoc_unstaked  staked_rewards  piggy_token_allocaion  \n",
      "0        Current       71.868063                 5000.0  \n",
      "1        Current        0.000000                 1000.0  \n",
      "2        Current        7.491243                 3000.0  \n",
      "3        Current        4.891243                 2000.0  \n",
      "4        Current       26.252667                 3000.0  \n",
      "..           ...             ...                    ...  \n",
      "64       Current       99.891287                 5000.0  \n",
      "65       Current       84.376439                 5000.0  \n",
      "66       Current      243.508950                 5000.0  \n",
      "67       Current       50.391287                 5000.0  \n",
      "68       Current       18.456287                 3000.0  \n",
      "\n",
      "[69 rows x 7 columns]\n"
     ]
    }
   ],
   "source": [
    "import pandas as pd\n",
    "\n",
    "df = pd.DataFrame(mylo)\n",
    "print(df)"
   ]
  },
  {
   "cell_type": "code",
   "execution_count": 30,
   "metadata": {},
   "outputs": [],
   "source": [
    "df.to_excel(\"Mylo_report.xlsx\")"
   ]
  },
  {
   "cell_type": "code",
   "execution_count": null,
   "metadata": {},
   "outputs": [],
   "source": []
  }
 ],
 "metadata": {
  "kernelspec": {
   "display_name": "Python 3",
   "language": "python",
   "name": "python3"
  },
  "language_info": {
   "codemirror_mode": {
    "name": "ipython",
    "version": 3
   },
   "file_extension": ".py",
   "mimetype": "text/x-python",
   "name": "python",
   "nbconvert_exporter": "python",
   "pygments_lexer": "ipython3",
   "version": "3.8.3"
  }
 },
 "nbformat": 4,
 "nbformat_minor": 4
}
